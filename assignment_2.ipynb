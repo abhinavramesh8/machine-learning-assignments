{
  "nbformat": 4,
  "nbformat_minor": 0,
  "metadata": {
    "colab": {
      "name": "assignment_2.ipynb",
      "provenance": [],
      "collapsed_sections": []
    },
    "kernelspec": {
      "name": "python3",
      "display_name": "Python 3"
    }
  },
  "cells": [
    {
      "cell_type": "code",
      "metadata": {
        "id": "beE5xkQCRTx7"
      },
      "source": [
        "import numpy as np\n",
        "import matplotlib.pyplot as plt\n",
        "from sklearn.linear_model import LogisticRegression\n",
        "from functools import partial\n",
        "import time\n",
        "import math"
      ],
      "execution_count": 1,
      "outputs": []
    },
    {
      "cell_type": "markdown",
      "metadata": {
        "id": "k_fKVvR-S5Tv"
      },
      "source": [
        "Write a function to **generate a training set** of size $m$\n",
        "- randomly generate a weight vector $w \\in \\mathbb{R}^{10}$, normalize length\n",
        "- generate a training set $\\{(x_i , y_i)\\}$ of size m\n",
        "  - $x_i$: random vector in $\\mathbb{R}^{10}$ from $\\textbf{N}(0, I)$\n",
        "  - $y_i$: $\\{0, +1\\}$ with $P[y = +1] = \\sigma(w \\cdot x_i)$ and $P[y = 0] = 1 - \\sigma(w \\cdot x_i)$"
      ]
    },
    {
      "cell_type": "code",
      "metadata": {
        "id": "mVo-8zHqTCa5"
      },
      "source": [
        "VECTOR_LENGTH = 10\n",
        "\n",
        "def normalize(v):\n",
        "  return (v / np.linalg.norm(v))\n",
        "\n",
        "def sigmoid(x, w):\n",
        "  return (1.0 / (1.0 + math.exp(-np.dot(x, w))))\n",
        "\n",
        "# simulate tossing a biased coin that comes up 1 with probability sigmoid(x, w)\n",
        "def get_label(x, w):\n",
        "  return int(np.random.random() < sigmoid(x, w))\n",
        "\n",
        "def generate_training_set(m):\n",
        "  # randomly generating a weight vector w of length 10 with norm = 1\n",
        "  w = np.random.rand(VECTOR_LENGTH)\n",
        "  w = normalize(w)\n",
        "  # generating the x_i's and y_i's\n",
        "  X = np.random.randn(m, VECTOR_LENGTH)\n",
        "  y = np.array([get_label(x, w) for x in X])\n",
        "  return X, y, w\n"
      ],
      "execution_count": 2,
      "outputs": []
    },
    {
      "cell_type": "markdown",
      "metadata": {
        "id": "LobMbfuCn2sO"
      },
      "source": [
        "## Algorithm 1: logistic regression\n",
        "\n",
        "The goal is to learn $w$.  Algorithm 1 is logistic\n",
        "  regression (you may use the built-in method LogisticRegression for this. Use max_iter=1000)."
      ]
    },
    {
      "cell_type": "code",
      "metadata": {
        "id": "irfL6ihon3jt"
      },
      "source": [
        "ITERATIONS = 1000\n",
        "\n",
        "# returns the weight vector learnt by the inbuilt logistic regression algorithm\n",
        "def w_by_logistic(X, y):\n",
        "  clf = LogisticRegression(fit_intercept = False, max_iter = ITERATIONS, \n",
        "                           solver=\"lbfgs\").fit(X, y)\n",
        "  return clf.coef_"
      ],
      "execution_count": 3,
      "outputs": []
    },
    {
      "cell_type": "markdown",
      "metadata": {
        "id": "_4BObfGJTSjp"
      },
      "source": [
        "## Algorithm 2: stochastic gradient descent with square loss\n",
        "\n",
        "Define square loss as\n",
        "$$L_i(w^{(t)}) = \\frac{1}{2} \\left( \\sigma(w^{(t)} \\cdot x) - y_i \\right)^2$$\n",
        "\n",
        "  Algorithm 2 is\n",
        "  stochastic gradient descent with respect to square loss (run for 1000 iterations, use step size eta = 0.01)."
      ]
    },
    {
      "cell_type": "markdown",
      "metadata": {
        "id": "OyVZoR782LFi"
      },
      "source": [
        "# <u>Gradient calculation</u>\n",
        "\n",
        "The gradient of <i>L<sub>i</sub></i> with respect to <i>w</i> is as follows :\n",
        "\n",
        "$$\\nabla L_i(w) = \\sigma(w \\cdot x_i)*(\\sigma(w \\cdot x_i) - y_i)*(1 - \\sigma(w \\cdot x_i))*x_i$$\n",
        "\n",
        "The stochastic gradient descent update rule for <i>w</i> is as follows :\n",
        "\n",
        "$$w^{(t+1)} = w^{(t)} - \\eta\\nabla L_i(w)|_{w^{(t)}}$$\n",
        "\n",
        "The index <i>i</i> is chosen at random."
      ]
    },
    {
      "cell_type": "code",
      "metadata": {
        "id": "nAQJaFxwTZkJ"
      },
      "source": [
        "STEP_SIZE = 0.01\n",
        "\n",
        "def gradient(x, y_i, w):\n",
        "  sigmoid_value = sigmoid(x, w)\n",
        "  return sigmoid_value*(sigmoid_value - y_i)*(1 - sigmoid_value)*x\n",
        "\n",
        "def w_by_descent(X, y):\n",
        "  w = normalize(np.ones(VECTOR_LENGTH)) # initial w vector\n",
        "  m = X.shape[0]\n",
        "  for i in range(ITERATIONS):\n",
        "    random_index = np.random.choice(m)\n",
        "    x, y_i = X[random_index], y[random_index]\n",
        "    w = w - STEP_SIZE * gradient(x, y_i, w)\n",
        "  return w\n",
        "                 "
      ],
      "execution_count": 4,
      "outputs": []
    },
    {
      "cell_type": "markdown",
      "metadata": {
        "id": "aFRVVx4_TZ2S"
      },
      "source": [
        "## Evaluation\n",
        "\n",
        "Measure error $||w - \\hat{w}||_2$ for each method at different sample size. For any\n",
        "  fixed value of $m$, choose many different $w$'s and average the\n",
        "  values $\\|w - \n",
        "  \\hat{w}\\|_2$ for Algorithms 1 and 2.  Plot the results\n",
        "  for Algorithms 1 and 2, as you make $m$ large. Try $m=50, 100, 150, 200, 250$.\n"
      ]
    },
    {
      "cell_type": "code",
      "metadata": {
        "id": "CFWtFSvHThW1",
        "outputId": "72ef6425-dbdd-4714-8120-3476a5578bca",
        "colab": {
          "base_uri": "https://localhost:8080/",
          "height": 567
        }
      },
      "source": [
        "W_NUMBER_PER_M = 100 # number of weight vectors for a value of m\n",
        "VALUES_OF_M = range(50, 300, 50)\n",
        "\n",
        "def error(w1, w2):\n",
        "  return np.linalg.norm(w1 - w2)\n",
        "\n",
        "# computes the mean error for both the algorithms for a particular value of m\n",
        "def algorithm_error(m):\n",
        "  error_for_logistic, error_for_descent = 0, 0\n",
        "  for i in range(W_NUMBER_PER_M):\n",
        "    X, y, w = generate_training_set(m)\n",
        "    logistic_w = normalize(w_by_logistic(X, y))\n",
        "    descent_w = normalize(w_by_descent(X, y))\n",
        "    error_for_logistic += error(w, logistic_w)\n",
        "    error_for_descent += error(w, descent_w)\n",
        "  error_for_logistic /= W_NUMBER_PER_M\n",
        "  error_for_descent /= W_NUMBER_PER_M\n",
        "  return error_for_logistic, error_for_descent\n",
        "\n",
        "# computes the mean errors for both the algorithms for all values of m\n",
        "def evaluate():\n",
        "  errors_for_logistic, errors_for_descent = [], []\n",
        "  for m in VALUES_OF_M:\n",
        "    error_for_logistic, error_for_descent = algorithm_error(m)\n",
        "    errors_for_logistic.append(error_for_logistic)\n",
        "    errors_for_descent.append(error_for_descent)\n",
        "  return errors_for_logistic, errors_for_descent\n",
        "\n",
        "def print_errors(errors, algorithm):\n",
        "  print(\"Mean ||w - w'|| for different values of m for {}:\".format(algorithm))\n",
        "  print()\n",
        "  for m, error in zip(VALUES_OF_M, errors):\n",
        "    print(\"{0} -> {1:.3f}\".format(m, error))\n",
        "  \n",
        "# plots the mean errors for all values of m\n",
        "def plot():\n",
        "  errors_for_logistic, errors_for_descent = evaluate()\n",
        "  plt.title(\"Training set size vs mean of ||w - w'|| for 2 algorithms\")\n",
        "  plt.xlabel(\"m\")\n",
        "  plt.ylabel(\"Mean ||w - w'||\")\n",
        "  plt.xticks(VALUES_OF_M)\n",
        "  plt.plot(VALUES_OF_M, errors_for_logistic, label=\"Logistic Regression\")\n",
        "  plt.plot(VALUES_OF_M, errors_for_descent, label=\"Stochastic Gradient Descent\")\n",
        "  plt.legend(loc=(1.04, 0), title='Algorithm')\n",
        "  plt.show()\n",
        "  print_errors(errors_for_logistic, \"Logistic Regression\")\n",
        "  print(\"\\n\")\n",
        "  print_errors(errors_for_descent, \"Stochastic Gradient Descent\")\n",
        "  \n",
        "plot()"
      ],
      "execution_count": 5,
      "outputs": [
        {
          "output_type": "display_data",
          "data": {
            "image/png": "[encoded data removed]",
            "text/plain": [
              "<Figure size 432x288 with 1 Axes>"
            ]
          },
          "metadata": {
            "needs_background": "light"
          }
        },
        {
          "output_type": "stream",
          "name": "stdout",
          "text": [
            "Mean ||w - w'|| for different values of m for Logistic Regression:\n",
            "\n",
            "50 -> 0.747\n",
            "100 -> 0.572\n",
            "150 -> 0.486\n",
            "200 -> 0.428\n",
            "250 -> 0.392\n",
            "\n",
            "\n",
            "Mean ||w - w'|| for different values of m for Stochastic Gradient Descent:\n",
            "\n",
            "50 -> 0.456\n",
            "100 -> 0.410\n",
            "150 -> 0.395\n",
            "200 -> 0.371\n",
            "250 -> 0.356\n"
          ]
        }
      ]
    }
  ]
}